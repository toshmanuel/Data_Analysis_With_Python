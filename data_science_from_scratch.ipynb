{
  "nbformat": 4,
  "nbformat_minor": 0,
  "metadata": {
    "colab": {
      "name": "data_science_from_scratch.ipynb",
      "provenance": [],
      "authorship_tag": "ABX9TyPN/A5TGabpCGZ4ObNf4AQo",
      "include_colab_link": true
    },
    "kernelspec": {
      "name": "python3",
      "display_name": "Python 3"
    }
  },
  "cells": [
    {
      "cell_type": "markdown",
      "metadata": {
        "id": "view-in-github",
        "colab_type": "text"
      },
      "source": [
        "<a href=\"https://colab.research.google.com/github/toshmanuel/Data_Analysis_With_Python/blob/main/data_science_from_scratch.ipynb\" target=\"_parent\"><img src=\"https://colab.research.google.com/assets/colab-badge.svg\" alt=\"Open In Colab\"/></a>"
      ]
    },
    {
      "cell_type": "code",
      "metadata": {
        "id": "Tr0glVXknwdb"
      },
      "source": [
        "users = [\n",
        "      { \"id\": 0, \"name\": \"Hero\" },\n",
        "      { \"id\": 1, \"name\": \"Dunn\" },\n",
        "      { \"id\": 2, \"name\": \"Sue\" },\n",
        "      { \"id\": 3, \"name\": \"Chi\" },\n",
        "      { \"id\": 4, \"name\": \"Thor\" },\n",
        "      { \"id\": 5, \"name\": \"Clive\" },\n",
        "      { \"id\": 6, \"name\": \"Hicks\" },\n",
        "      { \"id\": 7, \"name\": \"Devin\" },\n",
        "      { \"id\": 8, \"name\": \"Kate\" },\n",
        "      { \"id\": 9, \"name\": \"Klein\" }  \n",
        "]"
      ],
      "execution_count": 34,
      "outputs": []
    },
    {
      "cell_type": "code",
      "metadata": {
        "id": "zbkjSyvhnpLc"
      },
      "source": [
        "friendships = [(0, 1), (0, 2), (1, 2), (1, 3), (2, 3), (3, 4),(4, 5), (5, 6), (5, 7), (6, 8), (7, 8), (8, 9)]"
      ],
      "execution_count": 35,
      "outputs": []
    },
    {
      "cell_type": "code",
      "metadata": {
        "id": "zQ5Hm-KDnktz"
      },
      "source": [
        "for user in users:\n",
        "  # print(user[\"name\"])\n",
        "  # print(user.get(\"id\"))\n",
        "  user[\"friends\"] = []"
      ],
      "execution_count": 36,
      "outputs": []
    },
    {
      "cell_type": "code",
      "metadata": {
        "colab": {
          "base_uri": "https://localhost:8080/"
        },
        "id": "G8DQfVZCuJqC",
        "outputId": "dff31c18-18e6-4b35-e312-1eacdbdac771"
      },
      "source": [
        "users"
      ],
      "execution_count": 37,
      "outputs": [
        {
          "output_type": "execute_result",
          "data": {
            "text/plain": [
              "[{'friends': [], 'id': 0, 'name': 'Hero'},\n",
              " {'friends': [], 'id': 1, 'name': 'Dunn'},\n",
              " {'friends': [], 'id': 2, 'name': 'Sue'},\n",
              " {'friends': [], 'id': 3, 'name': 'Chi'},\n",
              " {'friends': [], 'id': 4, 'name': 'Thor'},\n",
              " {'friends': [], 'id': 5, 'name': 'Clive'},\n",
              " {'friends': [], 'id': 6, 'name': 'Hicks'},\n",
              " {'friends': [], 'id': 7, 'name': 'Devin'},\n",
              " {'friends': [], 'id': 8, 'name': 'Kate'},\n",
              " {'friends': [], 'id': 9, 'name': 'Klein'}]"
            ]
          },
          "metadata": {
            "tags": []
          },
          "execution_count": 37
        }
      ]
    },
    {
      "cell_type": "code",
      "metadata": {
        "id": "XOQjgfL3ndyT",
        "colab": {
          "base_uri": "https://localhost:8080/"
        },
        "outputId": "741aa3d1-82fa-4280-928a-84c8a6229f20"
      },
      "source": [
        "for i, j in friendships:\n",
        "  users[i][\"friends\"].append([j])\n",
        "  users[j][\"friends\"].append([i])\n",
        "\n",
        "for user in users:\n",
        "  print(user)"
      ],
      "execution_count": 38,
      "outputs": [
        {
          "output_type": "stream",
          "text": [
            "{'id': 0, 'name': 'Hero', 'friends': [[1], [2]]}\n",
            "{'id': 1, 'name': 'Dunn', 'friends': [[0], [2], [3]]}\n",
            "{'id': 2, 'name': 'Sue', 'friends': [[0], [1], [3]]}\n",
            "{'id': 3, 'name': 'Chi', 'friends': [[1], [2], [4]]}\n",
            "{'id': 4, 'name': 'Thor', 'friends': [[3], [5]]}\n",
            "{'id': 5, 'name': 'Clive', 'friends': [[4], [6], [7]]}\n",
            "{'id': 6, 'name': 'Hicks', 'friends': [[5], [8]]}\n",
            "{'id': 7, 'name': 'Devin', 'friends': [[5], [8]]}\n",
            "{'id': 8, 'name': 'Kate', 'friends': [[6], [7], [9]]}\n",
            "{'id': 9, 'name': 'Klein', 'friends': [[8]]}\n"
          ],
          "name": "stdout"
        }
      ]
    },
    {
      "cell_type": "code",
      "metadata": {
        "colab": {
          "base_uri": "https://localhost:8080/"
        },
        "id": "J2w_zL-ovHyB",
        "outputId": "c3c88620-91aa-4c7f-b1ec-25d80b4d881c"
      },
      "source": [
        "users"
      ],
      "execution_count": 39,
      "outputs": [
        {
          "output_type": "execute_result",
          "data": {
            "text/plain": [
              "[{'friends': [[1], [2]], 'id': 0, 'name': 'Hero'},\n",
              " {'friends': [[0], [2], [3]], 'id': 1, 'name': 'Dunn'},\n",
              " {'friends': [[0], [1], [3]], 'id': 2, 'name': 'Sue'},\n",
              " {'friends': [[1], [2], [4]], 'id': 3, 'name': 'Chi'},\n",
              " {'friends': [[3], [5]], 'id': 4, 'name': 'Thor'},\n",
              " {'friends': [[4], [6], [7]], 'id': 5, 'name': 'Clive'},\n",
              " {'friends': [[5], [8]], 'id': 6, 'name': 'Hicks'},\n",
              " {'friends': [[5], [8]], 'id': 7, 'name': 'Devin'},\n",
              " {'friends': [[6], [7], [9]], 'id': 8, 'name': 'Kate'},\n",
              " {'friends': [[8]], 'id': 9, 'name': 'Klein'}]"
            ]
          },
          "metadata": {
            "tags": []
          },
          "execution_count": 39
        }
      ]
    },
    {
      "cell_type": "code",
      "metadata": {
        "id": "zZD8OEY1mRaX"
      },
      "source": [
        "def number_of_friends(user):\n",
        "  return len(user[\"friends\"])"
      ],
      "execution_count": 40,
      "outputs": []
    },
    {
      "cell_type": "code",
      "metadata": {
        "colab": {
          "base_uri": "https://localhost:8080/"
        },
        "id": "Ya0HyQFzmdH5",
        "outputId": "38cd619f-8c3c-4026-e1fd-554e9bd95d80"
      },
      "source": [
        "num_list =[]\n",
        "counter = 0\n",
        "for user in users:\n",
        "  num_list.append(number_of_friends(user))\n",
        "  counter = counter + 1\n",
        "print(sum(num_list))"
      ],
      "execution_count": 43,
      "outputs": [
        {
          "output_type": "stream",
          "text": [
            "24\n"
          ],
          "name": "stdout"
        }
      ]
    },
    {
      "cell_type": "code",
      "metadata": {
        "colab": {
          "base_uri": "https://localhost:8080/"
        },
        "id": "06oGM0UinfUf",
        "outputId": "a1402274-6481-4bce-e0be-b8b444587c4e"
      },
      "source": [
        "print(sum(num_list)/ counter)"
      ],
      "execution_count": 45,
      "outputs": [
        {
          "output_type": "stream",
          "text": [
            "2.4\n"
          ],
          "name": "stdout"
        }
      ]
    },
    {
      "cell_type": "code",
      "metadata": {
        "colab": {
          "base_uri": "https://localhost:8080/"
        },
        "id": "Sxj2him6m65Z",
        "outputId": "9913b415-34ee-4f92-eaa4-9fc982095616"
      },
      "source": [
        "print(sum([number_of_friends(user) for user in users]))"
      ],
      "execution_count": 42,
      "outputs": [
        {
          "output_type": "stream",
          "text": [
            "24\n"
          ],
          "name": "stdout"
        }
      ]
    },
    {
      "cell_type": "code",
      "metadata": {
        "colab": {
          "base_uri": "https://localhost:8080/"
        },
        "id": "jW_hY0o6nGkM",
        "outputId": "c5c23faf-57f6-4d54-ac4c-ff43ebb8537e"
      },
      "source": [
        "print(sum([number_of_friends(user) for user in users]) / len(users) )"
      ],
      "execution_count": 47,
      "outputs": [
        {
          "output_type": "stream",
          "text": [
            "2.4\n"
          ],
          "name": "stdout"
        }
      ]
    }
  ]
}